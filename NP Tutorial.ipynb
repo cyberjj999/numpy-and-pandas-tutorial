{
 "cells": [
  {
   "cell_type": "markdown",
   "id": "c6f4d242",
   "metadata": {},
   "source": [
    "# Tutorial Series — Data Analysis with Python - Full Course for Beginners (Numpy, Pandas, Matplotlib, Seaborn)\n",
    "Source: https://www.youtube.com/watch?v=r-uOLxNrNk8"
   ]
  },
  {
   "cell_type": "markdown",
   "id": "f07f39eb",
   "metadata": {},
   "source": [
    "## About Numpy (practical starts at 1:29:48)\n",
    "- NumPy is a library for the Python programming language, adding support for large, multi-dimensional arrays and matrices, along with a large collection of high-level mathematical functions to operate on these arrays.\n",
    "- Various other libraries like Pandas, Matplotlib, and Scikit-learn are built on top of this amazing library.\n",
    "- It is also very efficient."
   ]
  },
  {
   "cell_type": "code",
   "execution_count": 4,
   "id": "65305205",
   "metadata": {},
   "outputs": [],
   "source": [
    "import sys\n",
    "import numpy as np"
   ]
  },
  {
   "cell_type": "code",
   "execution_count": 5,
   "id": "bdd7bf6e",
   "metadata": {},
   "outputs": [
    {
     "data": {
      "text/plain": [
       "'1.24.3'"
      ]
     },
     "execution_count": 5,
     "metadata": {},
     "output_type": "execute_result"
    }
   ],
   "source": [
    "np.__version__"
   ]
  },
  {
   "cell_type": "markdown",
   "id": "78c227e2",
   "metadata": {},
   "source": [
    "## Numpy vs List\n",
    "\n",
    "In Python, NumPy arrays and standard lists are both used for storing collections of data. However, they have different characteristics and are suited for different use cases. Here are the key differences:\n",
    "\n",
    "Performance:\n",
    "\n",
    "- NumPy Arrays: They are more efficient for numerical operations because they are stored in contiguous memory locations and have a fixed data type, which allows for vectorized operations (operating on entire arrays).\n",
    "- Lists: They are less efficient for numerical computations because they are implemented as arrays of pointers to objects, which can be of different types. This diversity of types means operations typically involve more overhead.\n",
    "\n",
    "Memory Usage:\n",
    "\n",
    "- NumPy Arrays: More memory-efficient for large arrays of numerical data, as they have a fixed data type, reducing memory overhead.\n",
    "- Lists: Can consume more memory for large data sets, especially when the data is of a uniform type, because of the overhead of individual object storage.\n",
    "\n",
    "Functionality:\n",
    "\n",
    "- NumPy Arrays: Come with a vast array of functions and methods optimized for numerical computations, including mathematical functions, statistical operations, and linear algebra routines.\n",
    "- Lists: Provide general-purpose functionalities, such as adding or removing elements, but lack the specialized mathematical and statistical methods inherent to NumPy.\n",
    "\n",
    "Flexibility:\n",
    "\n",
    "- NumPy Arrays: Generally less flexible in terms of storing different data types; they require all elements to be of the same data type.\n",
    "- Lists: Highly flexible, as they can store elements of different types, including nested lists.\n",
    "\n",
    "Use Cases:\n",
    "- NumPy Arrays: Preferred for scientific computing, data analysis, machine learning, and any domain where large-scale numerical data processing is required.\n",
    "- Lists: Ideal for general-purpose programming when you need a flexible container to store a collection of mixed data types.\n",
    "\n",
    "In summary, if your work is heavily numerical or requires high performance and efficiency (such as in data science or numerical simulations), NumPy arrays are generally the better choice. For general programming tasks where such optimizations are not critical, and you need to store a varied collection of elements, Python lists are more suitable."
   ]
  },
  {
   "cell_type": "code",
   "execution_count": 6,
   "id": "2d35c0c8",
   "metadata": {},
   "outputs": [
    {
     "name": "stdout",
     "output_type": "stream",
     "text": [
      "[10, 20, 30, 40]\n"
     ]
    },
    {
     "data": {
      "text/plain": [
       "array([10, 20, 30, 40])"
      ]
     },
     "execution_count": 6,
     "metadata": {},
     "output_type": "execute_result"
    }
   ],
   "source": [
    "# create numpy array (just pass in a list of something)- usually that list is derived from text files or external sources\n",
    "my_list = [10,20,30,40]\n",
    "print(my_list)\n",
    "my_array = np.array([10,20,30,40])\n",
    "my_array"
   ]
  },
  {
   "cell_type": "markdown",
   "id": "aaeaee40",
   "metadata": {},
   "source": [
    "## Similarities of Python Lists and Numpy"
   ]
  },
  {
   "cell_type": "markdown",
   "id": "653f5e35",
   "metadata": {},
   "source": [
    "**Accessing Indexes**"
   ]
  },
  {
   "cell_type": "code",
   "execution_count": 7,
   "id": "9307d275",
   "metadata": {
    "scrolled": true
   },
   "outputs": [
    {
     "data": {
      "text/plain": [
       "10"
      ]
     },
     "execution_count": 7,
     "metadata": {},
     "output_type": "execute_result"
    }
   ],
   "source": [
    "my_list[0]"
   ]
  },
  {
   "cell_type": "code",
   "execution_count": 8,
   "id": "638624f7",
   "metadata": {},
   "outputs": [
    {
     "data": {
      "text/plain": [
       "10"
      ]
     },
     "execution_count": 8,
     "metadata": {},
     "output_type": "execute_result"
    }
   ],
   "source": [
    "my_array[0]"
   ]
  },
  {
   "cell_type": "markdown",
   "id": "e2f01915",
   "metadata": {},
   "source": [
    "**List Slicing Example**"
   ]
  },
  {
   "cell_type": "code",
   "execution_count": 9,
   "id": "cff2b513",
   "metadata": {},
   "outputs": [
    {
     "data": {
      "text/plain": [
       "[20, 30]"
      ]
     },
     "execution_count": 9,
     "metadata": {},
     "output_type": "execute_result"
    }
   ],
   "source": [
    "my_list[1:3]"
   ]
  },
  {
   "cell_type": "code",
   "execution_count": 10,
   "id": "4e6264f6",
   "metadata": {},
   "outputs": [
    {
     "data": {
      "text/plain": [
       "array([20, 30])"
      ]
     },
     "execution_count": 10,
     "metadata": {},
     "output_type": "execute_result"
    }
   ],
   "source": [
    "my_array[1:3]"
   ]
  },
  {
   "cell_type": "markdown",
   "id": "b2d645a6",
   "metadata": {},
   "source": [
    "## Differences of Python Lists and Numpy"
   ]
  },
  {
   "cell_type": "markdown",
   "id": "47d92c3b",
   "metadata": {},
   "source": [
    "**Accessing multiple variables**"
   ]
  },
  {
   "cell_type": "code",
   "execution_count": 11,
   "id": "1731ac77",
   "metadata": {},
   "outputs": [
    {
     "data": {
      "text/plain": [
       "(10, 20, 30)"
      ]
     },
     "execution_count": 11,
     "metadata": {},
     "output_type": "execute_result"
    }
   ],
   "source": [
    "my_list[0], my_list[1], my_list[2] # this will still work for list"
   ]
  },
  {
   "cell_type": "code",
   "execution_count": 12,
   "id": "6c6d3cbf",
   "metadata": {
    "scrolled": true
   },
   "outputs": [
    {
     "data": {
      "text/plain": [
       "(10, 20, 30)"
      ]
     },
     "execution_count": 12,
     "metadata": {},
     "output_type": "execute_result"
    }
   ],
   "source": [
    "my_array[0], my_array[1], my_array[2] # this will work for numpy arrays too"
   ]
  },
  {
   "cell_type": "markdown",
   "id": "8f340f6f",
   "metadata": {},
   "source": [
    "**— Multi-indexing in numpy | output is a numpy array with values of first 3 index**"
   ]
  },
  {
   "cell_type": "code",
   "execution_count": 13,
   "id": "247a5a60",
   "metadata": {},
   "outputs": [
    {
     "data": {
      "text/plain": [
       "array([10, 20, 30])"
      ]
     },
     "execution_count": 13,
     "metadata": {},
     "output_type": "execute_result"
    }
   ],
   "source": [
    "x = my_array[[0, 1, 2]] # access index 0, 1, and 2 in my_array\n",
    "x # this is a numpy array datatype.\n"
   ]
  },
  {
   "cell_type": "markdown",
   "id": "1490325e",
   "metadata": {},
   "source": [
    "## Types in Numpy"
   ]
  },
  {
   "cell_type": "code",
   "execution_count": 14,
   "id": "bcc7aa3d",
   "metadata": {
    "scrolled": true
   },
   "outputs": [
    {
     "data": {
      "text/plain": [
       "dtype('int32')"
      ]
     },
     "execution_count": 14,
     "metadata": {},
     "output_type": "execute_result"
    }
   ],
   "source": [
    "# use array.dtype to see datatype of your numpy array\n",
    "my_array.dtype # im not sure why my dtype is int32 instead of int64 (when my PC is x64) - You may refer to this for some info (https://stackoverflow.com/questions/36278590/numpy-array-dtype-is-coming-as-int32-by-default-in-a-windows-10-64-bit-machine)"
   ]
  },
  {
   "cell_type": "markdown",
   "id": "dcd8f3c3",
   "metadata": {},
   "source": [
    "**Create array and specify it to be a int8 array (i.e. store using more precise bits, making program more performant)**"
   ]
  },
  {
   "cell_type": "code",
   "execution_count": 15,
   "id": "116ce123",
   "metadata": {},
   "outputs": [
    {
     "data": {
      "text/plain": [
       "array([1, 2, 3], dtype=int8)"
      ]
     },
     "execution_count": 15,
     "metadata": {},
     "output_type": "execute_result"
    }
   ],
   "source": [
    "my_int8_array = np.array([1, 2, 3], dtype=np.int8)\n",
    "my_int8_array"
   ]
  },
  {
   "cell_type": "code",
   "execution_count": 16,
   "id": "c588e536",
   "metadata": {
    "scrolled": true
   },
   "outputs": [
    {
     "data": {
      "text/plain": [
       "dtype('int8')"
      ]
     },
     "execution_count": 16,
     "metadata": {},
     "output_type": "execute_result"
    }
   ],
   "source": [
    "my_int8_array.dtype"
   ]
  },
  {
   "cell_type": "markdown",
   "id": "1eff1817",
   "metadata": {},
   "source": [
    "**Create array and specify it to be a float array**"
   ]
  },
  {
   "cell_type": "code",
   "execution_count": 17,
   "id": "eefb969c",
   "metadata": {},
   "outputs": [
    {
     "data": {
      "text/plain": [
       "array([1., 2., 3.])"
      ]
     },
     "execution_count": 17,
     "metadata": {},
     "output_type": "execute_result"
    }
   ],
   "source": [
    "my_float_array = np.array([1, 2, 3], dtype=np.float64)\n",
    "my_float_array"
   ]
  },
  {
   "cell_type": "code",
   "execution_count": 18,
   "id": "87917984",
   "metadata": {
    "scrolled": true
   },
   "outputs": [
    {
     "data": {
      "text/plain": [
       "dtype('float64')"
      ]
     },
     "execution_count": 18,
     "metadata": {},
     "output_type": "execute_result"
    }
   ],
   "source": [
    "my_float_array.dtype"
   ]
  },
  {
   "cell_type": "markdown",
   "id": "902af43f",
   "metadata": {},
   "source": [
    "**You can store strings and even objects but it is rarely used this way. Numpy is typically used for numerical processing**"
   ]
  },
  {
   "cell_type": "markdown",
   "id": "f18670c3",
   "metadata": {},
   "source": [
    "**— Store String**"
   ]
  },
  {
   "cell_type": "code",
   "execution_count": 19,
   "id": "ff94c7e7",
   "metadata": {},
   "outputs": [
    {
     "data": {
      "text/plain": [
       "array(['a', 'b', 'c'], dtype='<U1')"
      ]
     },
     "execution_count": 19,
     "metadata": {},
     "output_type": "execute_result"
    }
   ],
   "source": [
    "my_string_array = np.array(['a', 'b', 'c'])\n",
    "my_string_array"
   ]
  },
  {
   "cell_type": "code",
   "execution_count": 20,
   "id": "79628c19",
   "metadata": {},
   "outputs": [
    {
     "data": {
      "text/plain": [
       "dtype('<U1')"
      ]
     },
     "execution_count": 20,
     "metadata": {},
     "output_type": "execute_result"
    }
   ],
   "source": [
    "my_string_array.dtype"
   ]
  },
  {
   "cell_type": "markdown",
   "id": "c994ead3",
   "metadata": {},
   "source": [
    "**— Store Object**"
   ]
  },
  {
   "cell_type": "code",
   "execution_count": 21,
   "id": "60364626",
   "metadata": {
    "tags": []
   },
   "outputs": [
    {
     "data": {
      "text/plain": [
       "array([<__main__.Dog object at 0x00000193C7F41A10>,\n",
       "       <__main__.Dog object at 0x00000193C7F38350>], dtype=object)"
      ]
     },
     "execution_count": 21,
     "metadata": {},
     "output_type": "execute_result"
    }
   ],
   "source": [
    "class Dog():\n",
    "    def __init__(self, name):\n",
    "        self.name = name\n",
    "\n",
    "my_dawg = Dog(\"Aaron\")\n",
    "my_dawg2 = Dog(\"Bob\")\n",
    "\n",
    "my_object_array = np.array([my_dawg, my_dawg2])\n",
    "my_object_array"
   ]
  },
  {
   "cell_type": "code",
   "execution_count": 22,
   "id": "7fe85edb",
   "metadata": {},
   "outputs": [
    {
     "data": {
      "text/plain": [
       "dtype('O')"
      ]
     },
     "execution_count": 22,
     "metadata": {},
     "output_type": "execute_result"
    }
   ],
   "source": [
    "my_object_array.dtype"
   ]
  },
  {
   "cell_type": "markdown",
   "id": "a7f9451d",
   "metadata": {},
   "source": [
    "## Dimensions and Shapes"
   ]
  },
  {
   "cell_type": "markdown",
   "id": "8808cd30",
   "metadata": {},
   "source": [
    "**Creating a 2 x 3 (2 rows 3 column) array**"
   ]
  },
  {
   "cell_type": "code",
   "execution_count": 23,
   "id": "0304ffe8",
   "metadata": {
    "scrolled": true
   },
   "outputs": [
    {
     "data": {
      "text/plain": [
       "array([[1, 2, 3],\n",
       "       [4, 5, 6]])"
      ]
     },
     "execution_count": 23,
     "metadata": {},
     "output_type": "execute_result"
    }
   ],
   "source": [
    "multi_dimension_array = np.array([\n",
    "    [1, 2, 3],\n",
    "    [4, 5, 6]\n",
    "])\n",
    "multi_dimension_array"
   ]
  },
  {
   "cell_type": "markdown",
   "id": "8948dc4b",
   "metadata": {},
   "source": [
    "**See the shape to know how many rows by how many columns**"
   ]
  },
  {
   "cell_type": "code",
   "execution_count": 24,
   "id": "dec813e1",
   "metadata": {},
   "outputs": [
    {
     "data": {
      "text/plain": [
       "(2, 3)"
      ]
     },
     "execution_count": 24,
     "metadata": {},
     "output_type": "execute_result"
    }
   ],
   "source": [
    "multi_dimension_array.shape"
   ]
  },
  {
   "cell_type": "markdown",
   "id": "bc5ad2a6",
   "metadata": {},
   "source": [
    "**See the dimensions of the array**"
   ]
  },
  {
   "cell_type": "code",
   "execution_count": 25,
   "id": "10642957",
   "metadata": {},
   "outputs": [
    {
     "data": {
      "text/plain": [
       "2"
      ]
     },
     "execution_count": 25,
     "metadata": {},
     "output_type": "execute_result"
    }
   ],
   "source": [
    "multi_dimension_array.ndim"
   ]
  },
  {
   "cell_type": "markdown",
   "id": "fa1daa99",
   "metadata": {},
   "source": [
    "**See the size of the array (i.e. how many elements it has)**"
   ]
  },
  {
   "cell_type": "code",
   "execution_count": 26,
   "id": "4edd5742",
   "metadata": {},
   "outputs": [
    {
     "data": {
      "text/plain": [
       "6"
      ]
     },
     "execution_count": 26,
     "metadata": {},
     "output_type": "execute_result"
    }
   ],
   "source": [
    "multi_dimension_array.size"
   ]
  },
  {
   "cell_type": "markdown",
   "id": "d712e6ef",
   "metadata": {},
   "source": [
    "## — End of NP Tutorial (didn't finish all the np practical because I don't need to, i ended around 1:35:37) —"
   ]
  }
 ],
 "metadata": {
  "kernelspec": {
   "display_name": "Python 3 (ipykernel)",
   "language": "python",
   "name": "python3"
  },
  "language_info": {
   "codemirror_mode": {
    "name": "ipython",
    "version": 3
   },
   "file_extension": ".py",
   "mimetype": "text/x-python",
   "name": "python",
   "nbconvert_exporter": "python",
   "pygments_lexer": "ipython3",
   "version": "3.11.4"
  }
 },
 "nbformat": 4,
 "nbformat_minor": 5
}
