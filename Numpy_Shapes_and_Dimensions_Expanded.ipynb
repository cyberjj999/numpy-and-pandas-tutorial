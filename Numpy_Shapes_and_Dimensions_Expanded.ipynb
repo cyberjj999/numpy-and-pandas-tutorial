{
 "cells": [
  {
   "cell_type": "markdown",
   "id": "676d0cd3",
   "metadata": {},
   "source": [
    "# Understanding Shapes and Dimensions in NumPy\n",
    "\n",
    "NumPy is a fundamental package for scientific computing in Python. It provides support for large, multi-dimensional arrays and matrices, along with a large collection of high-level mathematical functions to operate on these arrays."
   ]
  },
  {
   "cell_type": "markdown",
   "id": "74168f70",
   "metadata": {},
   "source": [
    "## 1. What is a NumPy Array?\n",
    "\n",
    "A NumPy array is a grid of values, all of the same type, and is indexed by a tuple of nonnegative integers. The number of dimensions is the rank of the array; the shape of an array is a tuple of integers giving the size of the array along each dimension."
   ]
  },
  {
   "cell_type": "markdown",
   "id": "d3d5c11b",
   "metadata": {},
   "source": [
    "## 2. Creating NumPy Arrays\n",
    "\n",
    "Let's start by creating some arrays."
   ]
  },
  {
   "cell_type": "code",
   "execution_count": 1,
   "id": "6b50c43d",
   "metadata": {},
   "outputs": [
    {
     "name": "stdout",
     "output_type": "stream",
     "text": [
      "1D Array:\n",
      " [1 2 3 4 5]\n",
      "\n",
      "2D Array:\n",
      " [[1 2 3]\n",
      " [4 5 6]]\n",
      "\n",
      "3D Array:\n",
      " [[[1 2]\n",
      "  [3 4]]\n",
      "\n",
      " [[5 6]\n",
      "  [7 8]]]\n"
     ]
    }
   ],
   "source": [
    "import numpy as np\n",
    "\n",
    "# A 1D array\n",
    "arr1d = np.array([1, 2, 3, 4, 5])\n",
    "print('1D Array:\\n', arr1d)\n",
    "\n",
    "# A 2D array\n",
    "arr2d = np.array([[1, 2, 3], [4, 5, 6]])\n",
    "print('\\n2D Array:\\n', arr2d)\n",
    "\n",
    "# A 3D array\n",
    "arr3d = np.array([[[1, 2], [3, 4]], [[5, 6], [7, 8]]])\n",
    "print('\\n3D Array:\\n', arr3d)"
   ]
  },
  {
   "cell_type": "markdown",
   "id": "330c7199",
   "metadata": {},
   "source": [
    "## 3. Understanding Shape and Dimension\n",
    "\n",
    "The shape of an array is the number of elements in each dimension, and the dimension is the number of axes (or ranks) the array has."
   ]
  },
  {
   "cell_type": "code",
   "execution_count": 2,
   "id": "3470c7a3",
   "metadata": {},
   "outputs": [
    {
     "name": "stdout",
     "output_type": "stream",
     "text": [
      "Shape of 1D array: (5,)\n",
      "Dimension of 1D array: 1\n",
      "\n",
      "Shape of 2D array: (2, 3)\n",
      "Dimension of 2D array: 2\n",
      "\n",
      "Shape of 3D array: (2, 2, 2)\n",
      "Dimension of 3D array: 3\n"
     ]
    }
   ],
   "source": [
    "# Shape and dimension of 1D array\n",
    "print('Shape of 1D array:', arr1d.shape)\n",
    "print('Dimension of 1D array:', arr1d.ndim)\n",
    "\n",
    "# Shape and dimension of 2D array\n",
    "print('\\nShape of 2D array:', arr2d.shape)\n",
    "print('Dimension of 2D array:', arr2d.ndim)\n",
    "\n",
    "# Shape and dimension of 3D array\n",
    "print('\\nShape of 3D array:', arr3d.shape)\n",
    "print('Dimension of 3D array:', arr3d.ndim)"
   ]
  },
  {
   "cell_type": "markdown",
   "id": "5e625ebb",
   "metadata": {},
   "source": [
    "## 4. Visualizing Shapes and Dimensions\n",
    "\n",
    "To better understand shapes and dimensions, let's visualize them:\n",
    "\n",
    "1. **1D Array**: Shape `(5,)`, Dimension `1`\n",
    "   - Represents 5 elements in a single row or column.\n",
    "\n",
    "2. **2D Array**: Shape `(2, 3)`, Dimension `2`\n",
    "   - Represents a table with 2 rows and 3 columns.\n",
    "\n",
    "3. **3D Array**: Shape `(2, 2, 2)`, Dimension `3`\n",
    "   - Think of it as a cube, with each dimension representing a different axis in 3D space."
   ]
  },
  {
   "cell_type": "markdown",
   "id": "5d30fce2",
   "metadata": {},
   "source": [
    "## Conclusion\n",
    "\n",
    "Understanding the shape and dimension of arrays in NumPy is crucial for manipulating and operating on data in Python. With this knowledge, you can effectively handle and process multi-dimensional data for various applications in data science and machine learning."
   ]
  },
  {
   "cell_type": "markdown",
   "id": "19954a86",
   "metadata": {},
   "source": [
    "\n",
    "## 5. Understanding `(5,)` vs `(1, 5)`\n",
    "\n",
    "In NumPy, `(5,)` represents the shape of a one-dimensional array with 5 elements, whereas `(1, 5)` represents the shape of a two-dimensional array with 1 row and 5 columns."
   ]
  },
  {
   "cell_type": "markdown",
   "metadata": {},
   "source": [
    "### Example of `(5,)` vs `(1, 5)`"
   ]
  },
  {
   "cell_type": "code",
   "execution_count": 3,
   "metadata": {},
   "outputs": [
    {
     "name": "stdout",
     "output_type": "stream",
     "text": [
      "1D array (5,):\n",
      " [1 2 3 4 5]\n",
      "Shape: (5,)\n",
      "\n",
      "2D array (1, 5):\n",
      " [[1 2 3 4 5]]\n",
      "Shape: (1, 5)\n"
     ]
    }
   ],
   "source": [
    "# Creating a 1D array with shape (5,)\n",
    "arr_1d = np.array([1, 2, 3, 4, 5])\n",
    "print(\"1D array (5,):\\n\", arr_1d)\n",
    "print(\"Shape:\", arr_1d.shape)\n",
    "\n",
    "# Reshaping to a 2D array with shape (1, 5)\n",
    "arr_2d = arr_1d.reshape(1, 5)\n",
    "print(\"\\n2D array (1, 5):\\n\", arr_2d)\n",
    "print(\"Shape:\", arr_2d.shape)"
   ]
  },
  {
   "cell_type": "markdown",
   "metadata": {},
   "source": [
    "## 6. Manipulating Array Shapes\n",
    "\n",
    "Arrays can be reshaped and transposed to change their shape and dimension. This is often required in data processing and machine learning.\n"
   ]
  },
  {
   "cell_type": "markdown",
   "metadata": {},
   "source": [
    "### Reshaping Arrays"
   ]
  },
  {
   "cell_type": "markdown",
   "metadata": {},
   "source": [
    "# Reshaping an array to a different shape\n",
    "reshaped_array = arr_1d.reshape(5, 1)\n",
    "print(\"Reshaped array (5, 1):\\n\", reshaped_array)"
   ]
  },
  {
   "cell_type": "markdown",
   "metadata": {},
   "source": [
    "### Transposing Arrays"
   ]
  },
  {
   "cell_type": "markdown",
   "metadata": {},
   "source": [
    "# Transposing an array (switching rows and columns)\n",
    "transposed_array = reshaped_array.T\n",
    "print(\"Transposed array:\\n\", transposed_array)"
   ]
  },
  {
   "cell_type": "markdown",
   "metadata": {},
   "source": [
    "## 7. Practical Use in Machine Learning\n",
    "\n",
    "In machine learning, it is common to reshape data to fit the requirements of different algorithms. For example, converting a row of labels into columns (or vice versa) is necessary to match the expected input format of a model or a function.\n"
   ]
  },
  {
   "cell_type": "markdown",
   "metadata": {},
   "source": [
    "### Example: Preparing Labels for a Machine Learning Model"
   ]
  },
  {
   "cell_type": "code",
   "execution_count": 4,
   "metadata": {},
   "outputs": [
    {
     "name": "stdout",
     "output_type": "stream",
     "text": [
      "Original labels:\n",
      " [0 1 2 3 4]\n",
      "\n",
      "Reshaped labels:\n",
      " [[0]\n",
      " [1]\n",
      " [2]\n",
      " [3]\n",
      " [4]]\n"
     ]
    }
   ],
   "source": [
    "# Labels as a 1D array\n",
    "labels = np.array([0, 1, 2, 3, 4])\n",
    "print(\"Original labels:\\n\", labels)\n",
    "\n",
    "# Reshaping labels to a 2D array with one column\n",
    "labels_reshaped = labels.reshape(-1, 1)\n",
    "print(\"\\nReshaped labels:\\n\", labels_reshaped)"
   ]
  },
  {
   "cell_type": "markdown",
   "metadata": {},
   "source": [
    "In this example, reshaping the labels from a 1D array to a 2D array with a single column is often required by machine learning libraries, which expect inputs in a specific format. This manipulation ensures compatibility and correct processing of the data."
   ]
  },
  {
   "cell_type": "markdown",
   "metadata": {},
   "source": []
  }
 ],
 "metadata": {
  "kernelspec": {
   "display_name": "Python 3",
   "language": "python",
   "name": "python3"
  },
  "language_info": {
   "codemirror_mode": {
    "name": "ipython",
    "version": 3
   },
   "file_extension": ".py",
   "mimetype": "text/x-python",
   "name": "python",
   "nbconvert_exporter": "python",
   "pygments_lexer": "ipython3",
   "version": "3.11.4"
  }
 },
 "nbformat": 4,
 "nbformat_minor": 5
}
