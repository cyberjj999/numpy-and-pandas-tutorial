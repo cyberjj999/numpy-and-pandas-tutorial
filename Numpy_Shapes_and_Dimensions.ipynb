{
 "cells": [
  {
   "cell_type": "markdown",
   "id": "ea78647e",
   "metadata": {},
   "source": [
    "# Understanding Shapes and Dimensions in NumPy\n",
    "\n",
    "NumPy is a fundamental package for scientific computing in Python. It provides support for large, multi-dimensional arrays and matrices, along with a large collection of high-level mathematical functions to operate on these arrays."
   ]
  },
  {
   "cell_type": "markdown",
   "id": "5107c759",
   "metadata": {},
   "source": [
    "## 1. What is a NumPy Array?\n",
    "\n",
    "A NumPy array is a grid of values, all of the same type, and is indexed by a tuple of nonnegative integers. The number of dimensions is the rank of the array; the shape of an array is a tuple of integers giving the size of the array along each dimension."
   ]
  },
  {
   "cell_type": "markdown",
   "id": "12218519",
   "metadata": {},
   "source": [
    "## 2. Creating NumPy Arrays\n",
    "\n",
    "Let's start by creating some arrays."
   ]
  },
  {
   "cell_type": "code",
   "execution_count": 1,
   "id": "4bfa56bc",
   "metadata": {},
   "outputs": [
    {
     "name": "stdout",
     "output_type": "stream",
     "text": [
      "1D Array:\n",
      " [1 2 3 4 5]\n",
      "\n",
      "2D Array:\n",
      " [[1 2 3]\n",
      " [4 5 6]]\n",
      "\n",
      "3D Array:\n",
      " [[[1 2]\n",
      "  [3 4]]\n",
      "\n",
      " [[5 6]\n",
      "  [7 8]]]\n"
     ]
    }
   ],
   "source": [
    "import numpy as np\n",
    "\n",
    "# A 1D array\n",
    "arr1d = np.array([1, 2, 3, 4, 5])\n",
    "print('1D Array:\\n', arr1d)\n",
    "\n",
    "# A 2D array\n",
    "arr2d = np.array([[1, 2, 3], [4, 5, 6]])\n",
    "print('\\n2D Array:\\n', arr2d)\n",
    "\n",
    "# A 3D array\n",
    "arr3d = np.array([[[1, 2], [3, 4]], [[5, 6], [7, 8]]])\n",
    "print('\\n3D Array:\\n', arr3d)"
   ]
  },
  {
   "cell_type": "markdown",
   "id": "92f7013e",
   "metadata": {},
   "source": [
    "## 3. Understanding Shape and Dimension\n",
    "\n",
    "The shape of an array is the number of elements in each dimension, and the dimension is the number of axes (or ranks) the array has."
   ]
  },
  {
   "cell_type": "code",
   "execution_count": 2,
   "id": "a684013e",
   "metadata": {},
   "outputs": [
    {
     "name": "stdout",
     "output_type": "stream",
     "text": [
      "Shape of 1D array: (5,)\n",
      "Dimension of 1D array: 1\n",
      "\n",
      "Shape of 2D array: (2, 3)\n",
      "Dimension of 2D array: 2\n",
      "\n",
      "Shape of 3D array: (2, 2, 2)\n",
      "Dimension of 3D array: 3\n"
     ]
    }
   ],
   "source": [
    "# Shape and dimension of 1D array\n",
    "print('Shape of 1D array:', arr1d.shape)\n",
    "print('Dimension of 1D array:', arr1d.ndim)\n",
    "\n",
    "# Shape and dimension of 2D array\n",
    "print('\\nShape of 2D array:', arr2d.shape)\n",
    "print('Dimension of 2D array:', arr2d.ndim)\n",
    "\n",
    "# Shape and dimension of 3D array\n",
    "print('\\nShape of 3D array:', arr3d.shape)\n",
    "print('Dimension of 3D array:', arr3d.ndim)"
   ]
  },
  {
   "cell_type": "markdown",
   "id": "61092532",
   "metadata": {},
   "source": [
    "## 4. Visualizing Shapes and Dimensions\n",
    "\n",
    "To better understand shapes and dimensions, let's visualize them:\n",
    "\n",
    "1. **1D Array**: Shape `(5,)`, Dimension `1`\n",
    "   - Represents 5 elements in a single row or column.\n",
    "\n",
    "2. **2D Array**: Shape `(2, 3)`, Dimension `2`\n",
    "   - Represents a table with 2 rows and 3 columns.\n",
    "\n",
    "3. **3D Array**: Shape `(2, 2, 2)`, Dimension `3`\n",
    "   - Think of it as a cube, with each dimension representing a different axis in 3D space."
   ]
  },
  {
   "cell_type": "markdown",
   "id": "15b2b60e",
   "metadata": {},
   "source": [
    "## Conclusion\n",
    "\n",
    "Understanding the shape and dimension of arrays in NumPy is crucial for manipulating and operating on data in Python. With this knowledge, you can effectively handle and process multi-dimensional data for various applications in data science and machine learning."
   ]
  }
 ],
 "metadata": {
  "kernelspec": {
   "display_name": "Python 3",
   "language": "python",
   "name": "python3"
  },
  "language_info": {
   "codemirror_mode": {
    "name": "ipython",
    "version": 3
   },
   "file_extension": ".py",
   "mimetype": "text/x-python",
   "name": "python",
   "nbconvert_exporter": "python",
   "pygments_lexer": "ipython3",
   "version": "3.11.4"
  }
 },
 "nbformat": 4,
 "nbformat_minor": 5
}
